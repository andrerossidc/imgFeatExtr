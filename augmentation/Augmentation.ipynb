{
 "cells": [
  {
   "cell_type": "code",
   "execution_count": 10,
   "metadata": {},
   "outputs": [
    {
     "name": "stdout",
     "output_type": "stream",
     "text": [
      "Initialised with 374 image(s) found.\n",
      "Output directory set to /home/gustavo/Google Drive/IC_andre/augmentation/images/output.Initialised with 374 image(s) found.\n",
      "Output directory set to /home/gustavo/Google Drive/IC_andre/augmentation/images/output.Initialised with 374 image(s) found.\n",
      "Output directory set to /home/gustavo/Google Drive/IC_andre/augmentation/images/output.Initialised with 374 image(s) found.\n",
      "Output directory set to /home/gustavo/Google Drive/IC_andre/augmentation/images/output.Initialised with 374 image(s) found.\n",
      "Output directory set to /home/gustavo/Google Drive/IC_andre/augmentation/images/output.Initialised with 374 image(s) found.\n",
      "Output directory set to /home/gustavo/Google Drive/IC_andre/augmentation/images/output."
     ]
    }
   ],
   "source": [
    "import Augmentor\n",
    "import os\n",
    "\n",
    "diretorio = os.getcwd()+\"/images\" #Diretorio de imagens\n",
    "augment = os.getcwd()+\"/images_aug\" #Augmentation\n",
    "\n",
    "p1 = Augmentor.Pipeline(diretorio)\n",
    "p2 = Augmentor.Pipeline(diretorio)\n",
    "p3 = Augmentor.Pipeline(diretorio)\n",
    "p4 = Augmentor.Pipeline(diretorio)\n",
    "p5 = Augmentor.Pipeline(diretorio)\n",
    "p6 = Augmentor.Pipeline(diretorio)"
   ]
  },
  {
   "cell_type": "code",
   "execution_count": 11,
   "metadata": {},
   "outputs": [],
   "source": [
    "def integrar(diretorio, n):\n",
    "    #Renomeando arquivos gerados\n",
    "    for nome in os.listdir(diretorio+\"/output/\"):    \n",
    "        novo_nome = nome[16:][:4]+\"_aug\"+n+nome[-4:]\n",
    "\n",
    "        os.rename(diretorio+\"/output/\"+nome, diretorio+\"/output/\"+novo_nome)\n",
    "        os.link(diretorio+\"/output/\"+novo_nome, augment+\"/\"+novo_nome)\n",
    "        os.remove(diretorio+\"/output/\"+novo_nome)"
   ]
  },
  {
   "cell_type": "code",
   "execution_count": 12,
   "metadata": {},
   "outputs": [
    {
     "name": "stderr",
     "output_type": "stream",
     "text": [
      "Processing <PIL.Image.Image image mode=RGB size=94x27 at 0x7F2570456400>: 100%|██████████| 374/374 [00:02<00:00, 185.34 Samples/s]\n"
     ]
    }
   ],
   "source": [
    "# Add operations to the pipeline as normal:\n",
    "p1.zoom_random(probability=1, percentage_area=0.7)\n",
    "p1.process()\n",
    "integrar(diretorio, \"1\")"
   ]
  },
  {
   "cell_type": "code",
   "execution_count": 13,
   "metadata": {},
   "outputs": [
    {
     "name": "stderr",
     "output_type": "stream",
     "text": [
      "Processing <PIL.Image.Image image mode=RGB size=94x27 at 0x7F25706FFEB8>: 100%|██████████| 374/374 [00:01<00:00, 194.32 Samples/s]\n"
     ]
    }
   ],
   "source": [
    "p2.crop_random(probability=1, percentage_area=0.7)\n",
    "p2.resize(probability=1, width=94, height=27)\n",
    "p2.process()\n",
    "integrar(diretorio, \"2\")"
   ]
  },
  {
   "cell_type": "code",
   "execution_count": 14,
   "metadata": {},
   "outputs": [
    {
     "name": "stderr",
     "output_type": "stream",
     "text": [
      "Processing <PIL.Image.Image image mode=RGB size=94x27 at 0x7F2570707F60>: 100%|██████████| 374/374 [00:01<00:00, 194.76 Samples/s]\n"
     ]
    }
   ],
   "source": [
    "p3.flip_top_bottom(probability=1)\n",
    "p3.process()\n",
    "integrar(diretorio, \"3\")"
   ]
  },
  {
   "cell_type": "code",
   "execution_count": 15,
   "metadata": {},
   "outputs": [
    {
     "name": "stderr",
     "output_type": "stream",
     "text": [
      "Processing <PIL.Image.Image image mode=RGB size=94x27 at 0x7F2570452780>: 100%|██████████| 374/374 [00:01<00:00, 224.99 Samples/s]\n"
     ]
    }
   ],
   "source": [
    "p4.flip_left_right(probability=1)\n",
    "p4.process()\n",
    "integrar(diretorio, \"4\")"
   ]
  },
  {
   "cell_type": "code",
   "execution_count": 16,
   "metadata": {},
   "outputs": [
    {
     "name": "stderr",
     "output_type": "stream",
     "text": [
      "Processing <PIL.Image.Image image mode=RGB size=94x27 at 0x7F257070F908>: 100%|██████████| 374/374 [00:01<00:00, 197.73 Samples/s]\n"
     ]
    }
   ],
   "source": [
    "p5.rotate180(probability=1)\n",
    "p5.process()\n",
    "integrar(diretorio, \"5\")"
   ]
  },
  {
   "cell_type": "code",
   "execution_count": 17,
   "metadata": {},
   "outputs": [
    {
     "name": "stderr",
     "output_type": "stream",
     "text": [
      "Processing <PIL.Image.Image image mode=RGB size=94x27 at 0x7F25705E93C8>: 100%|██████████| 374/374 [00:02<00:00, 144.63 Samples/s]\n"
     ]
    }
   ],
   "source": [
    "p6.random_brightness(probability=1, min_factor=0.90, max_factor=0.98)\n",
    "p6.random_contrast(probability=1, min_factor=1, max_factor=2)\n",
    "p6.process()\n",
    "integrar(diretorio, \"6\")"
   ]
  },
  {
   "cell_type": "code",
   "execution_count": 18,
   "metadata": {},
   "outputs": [],
   "source": [
    "#Adicionando as imagens originais a pasta de Augmentation\n",
    "os.rmdir(diretorio+\"/output/\")\n",
    "\n",
    "for nom in os.listdir(diretorio): \n",
    "    os.link(diretorio+\"/\"+nom, augment+\"/\"+nom)"
   ]
  }
 ],
 "metadata": {
  "kernelspec": {
   "display_name": "Python 3",
   "language": "python",
   "name": "python3"
  },
  "language_info": {
   "codemirror_mode": {
    "name": "ipython",
    "version": 3
   },
   "file_extension": ".py",
   "mimetype": "text/x-python",
   "name": "python",
   "nbconvert_exporter": "python",
   "pygments_lexer": "ipython3",
   "version": "3.7.1"
  }
 },
 "nbformat": 4,
 "nbformat_minor": 2
}
